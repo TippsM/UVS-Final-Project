{
 "cells": [
  {
   "cell_type": "code",
   "execution_count": null,
   "id": "677bfd9e",
   "metadata": {},
   "outputs": [],
   "source": [
    "from sentence_transformers import SentenceTransformer\n",
    "import numpy as np\n",
    "\n",
    "# 1. Load a pretrained Sentence Transformer model\n",
    "model = SentenceTransformer(\"all-MiniLM-L6-v2\")\n",
    "\n",
    "# The sentences to encode\n",
    "sentences1 = [\n",
    "    \"Truck has a long bed and can hold 200 tons, and has 300 horse power\",\n",
    "    \"I need a small truck that can store ice cream\",\n",
    "    \"I need a big truck with a long bed for lumber\",\n",
    "]\n",
    "\n",
    "sentences2 = [\n",
    "    \"Refrigerated box truck, weighs 16,000 pounds, and is insulated, Transmission Speeds of 6, steel wheels, 215 engine horse power\",\n",
    "    \"I want a truck that can haul 3 tons of ice cream\",\n",
    "]\n",
    "\n",
    "\n",
    "\n",
    "# 2. Calculate embeddings by calling model.encode()\n",
    "embeddings = model.encode(sentences2)\n",
    "print(embeddings.shape)\n",
    "# [3, 384]\n",
    "\n",
    "# 3. Calculate the embedding similarities\n",
    "similarities = model.similarity(embeddings, embeddings)\n",
    "print(similarities , \"\\n\")\n",
    "# tensor([[1.0000, 0.6660, 0.1046],\n",
    "#         [0.6660, 1.0000, 0.1411],\n",
    "#         [0.1046, 0.1411, 1.0000]])\n",
    "\n",
    "percent_similarities = np.maximum(0, similarities) * 100\n",
    "\n",
    "n = len(sentences2)\n",
    "for i in range(n):\n",
    "    for j in range(i + 1, n):\n",
    "        print(f\"Similarity between sentence {i+1} and sentence {j+1}: {percent_similarities[i][j]:.2f}%\")"
   ]
  }
 ],
 "metadata": {
  "language_info": {
   "name": "python"
  }
 },
 "nbformat": 4,
 "nbformat_minor": 5
}
