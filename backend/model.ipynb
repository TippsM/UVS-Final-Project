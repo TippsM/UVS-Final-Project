{
 "cells": [
  {
   "cell_type": "code",
   "execution_count": null,
   "id": "677bfd9e",
   "metadata": {},
   "outputs": [
    {
     "name": "stdout",
     "output_type": "stream",
     "text": [
      "\n",
      "Similarity scores with existing trucks:\n",
      "\n",
      "Truck 1: 31.24% similarity\n",
      "Truck 2: 43.18% similarity\n",
      "Truck 3: 34.60% similarity\n",
      "\n",
      "Best match: Truck 2\n",
      "Description: Class 5, Box Truck, Refrigerated, Diesel, 20ft Cargo Box, Thermo King, 19,500 GVWR, Urban Delivery, Cold Chain, Food Transport, Tight Turning Radius\n"
     ]
    }
   ],
   "source": [
    "from sentence_transformers import SentenceTransformer, util\n",
    "import numpy as np\n",
    "\n",
    "# 1. Load pretrained model\n",
    "model = SentenceTransformer(\"all-MiniLM-L6-v2\")\n",
    "\n",
    "# 2. List of truck data\n",
    "trucks = [\n",
    "    \"Class 8, Sleeper Cab, Diesel, D13 Engine, 500 HP, I-Shift Transmission, Long-Haul, Lane Assist, Emergency Braking, 77 Sleeper, High Roof, Fleet, Highway\",\n",
    "    \"Class 5, Box Truck, Refrigerated, Diesel, 20ft Cargo Box, Thermo King, 19,500 GVWR, Urban Delivery, Cold Chain, Food Transport, Tight Turning Radius\",\n",
    "    \"Cargo Van, High Roof, Extended Length, 3.5L EcoBoost, Gasoline, 487 cu ft, SYNC 4, Sliding Doors, Mobile Service, Delivery Van, Driver Assist, Fleet Use\",\n",
    "]\n",
    "\n",
    "# 3. Encode truck data\n",
    "truck_embeddings = model.encode(trucks)\n",
    "\n",
    "# 4. Get user input\n",
    "query = input(\"Enter your truck description or search query:\\n> \")\n",
    "\n",
    "# 5. Encode user query\n",
    "query_embedding = model.encode([query])[0]\n",
    "\n",
    "# 6. Compute cosine similarities\n",
    "cosine_scores = util.cos_sim(query_embedding, truck_embeddings)[0].cpu().numpy()\n",
    "\n",
    "# 7. Display results\n",
    "print(\"\\nSimilarity scores with existing trucks:\\n\")\n",
    "for i, score in enumerate(cosine_scores):\n",
    "    percent = max(0, score) * 100\n",
    "    print(f\"Truck {i+1}: {percent:.2f}% similarity\")\n",
    "\n",
    "# Optional: Print best match\n",
    "best_match_idx = int(np.argmax(cosine_scores))\n",
    "print(f\"\\nBest match: Truck {best_match_idx + 1}\")\n",
    "print(f\"Description: {trucks[best_match_idx]}\")\n"
   ]
  }
 ],
 "metadata": {
  "kernelspec": {
   "display_name": "Python 3",
   "language": "python",
   "name": "python3"
  },
  "language_info": {
   "codemirror_mode": {
    "name": "ipython",
    "version": 3
   },
   "file_extension": ".py",
   "mimetype": "text/x-python",
   "name": "python",
   "nbconvert_exporter": "python",
   "pygments_lexer": "ipython3",
   "version": "3.9.6"
  }
 },
 "nbformat": 4,
 "nbformat_minor": 5
}
